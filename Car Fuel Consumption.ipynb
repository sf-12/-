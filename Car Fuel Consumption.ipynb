{
 "cells": [
  {
   "cell_type": "markdown",
   "metadata": {},
   "source": [
    "# 課題『Car Fuel Consumption』\n",
    "URL：https://www.kaggle.com/anderas/car-consume  \n",
    "氏名：s.fukasawa\n",
    "\n",
    "### 目次\n",
    " 1. 課題の概要\n",
    " 1. データセットの確認\n",
    " 1. 前処理\n",
    " 1. 目的変数と説明変数の関係  \n",
    " 1. アルゴリズムの実装\n",
    " 1. 予測精度の確認\n",
    "\n",
    "### 1. 課題の概要\n",
    "　問題設定：100kmあたりのガソリン消費量(consume)を予測  \n",
    "\n",
    "### 2. データセットの確認\n",
    "#### ・データ項目\n",
    "|項番|データ項目    |説明    |\n",
    "|:--:|:--:          |:--:    | \n",
    "|  1 | distance     | 走行距離(km/h)|\n",
    "|  2 | consume      | ガソリン消費量(L/100km)|\n",
    "|  3 | speed        | 平均速度（km/h）|\n",
    "|  4 | temp_inside  | 車内温度（℃） |\n",
    "|  5 | temp_outside | 車外温度（℃）|\n",
    "|  6 | specials     | 特記事項|\n",
    "|  7 | gas_type     | ガソリンの種類|\n",
    "|  8 | AC           | 空調|\n",
    "|  9 | rain         | 雨天|\n",
    "| 10 | sun          | 晴天|\n",
    "| 11 | refill liters| 給油量（L）|\n",
    "| 12 | refill gas   | 給油したガソリンの種類|\n",
    "\n"
   ]
  },
  {
   "cell_type": "markdown",
   "metadata": {},
   "source": [
    "#### ・データセットの読み込み"
   ]
  },
  {
   "cell_type": "code",
   "execution_count": 1,
   "metadata": {},
   "outputs": [],
   "source": [
    "%matplotlib inline\n",
    "import pandas as pd\n",
    "import numpy as np\n",
    "from sklearn.linear_model import LinearRegression\n",
    "import seaborn as sns\n",
    "import matplotlib.pyplot as plt\n",
    "from sklearn.model_selection import KFold # 交差検証法に関する関数\n",
    "from sklearn.metrics import mean_squared_error, mean_absolute_error # 回帰問題における性能評価に関する関数\n",
    "from sklearn import linear_model\n",
    "from sklearn.pipeline import make_pipeline"
   ]
  },
  {
   "cell_type": "code",
   "execution_count": 2,
   "metadata": {},
   "outputs": [],
   "source": [
    "df = pd.read_csv(\"car-consume/measurements.csv\")[['distance', 'consume', 'speed', 'temp_inside', 'temp_outside', 'specials', 'gas_type','AC','rain','sun','refill liters','refill gas']]"
   ]
  },
  {
   "cell_type": "code",
   "execution_count": 3,
   "metadata": {},
   "outputs": [
    {
     "data": {
      "text/html": [
       "<div>\n",
       "<style scoped>\n",
       "    .dataframe tbody tr th:only-of-type {\n",
       "        vertical-align: middle;\n",
       "    }\n",
       "\n",
       "    .dataframe tbody tr th {\n",
       "        vertical-align: top;\n",
       "    }\n",
       "\n",
       "    .dataframe thead th {\n",
       "        text-align: right;\n",
       "    }\n",
       "</style>\n",
       "<table border=\"1\" class=\"dataframe\">\n",
       "  <thead>\n",
       "    <tr style=\"text-align: right;\">\n",
       "      <th></th>\n",
       "      <th>distance</th>\n",
       "      <th>consume</th>\n",
       "      <th>speed</th>\n",
       "      <th>temp_inside</th>\n",
       "      <th>temp_outside</th>\n",
       "      <th>specials</th>\n",
       "      <th>gas_type</th>\n",
       "      <th>AC</th>\n",
       "      <th>rain</th>\n",
       "      <th>sun</th>\n",
       "      <th>refill liters</th>\n",
       "      <th>refill gas</th>\n",
       "    </tr>\n",
       "  </thead>\n",
       "  <tbody>\n",
       "    <tr>\n",
       "      <th>0</th>\n",
       "      <td>28</td>\n",
       "      <td>5</td>\n",
       "      <td>26</td>\n",
       "      <td>21,5</td>\n",
       "      <td>12</td>\n",
       "      <td>NaN</td>\n",
       "      <td>E10</td>\n",
       "      <td>0</td>\n",
       "      <td>0</td>\n",
       "      <td>0</td>\n",
       "      <td>45</td>\n",
       "      <td>E10</td>\n",
       "    </tr>\n",
       "    <tr>\n",
       "      <th>1</th>\n",
       "      <td>12</td>\n",
       "      <td>4,2</td>\n",
       "      <td>30</td>\n",
       "      <td>21,5</td>\n",
       "      <td>13</td>\n",
       "      <td>NaN</td>\n",
       "      <td>E10</td>\n",
       "      <td>0</td>\n",
       "      <td>0</td>\n",
       "      <td>0</td>\n",
       "      <td>NaN</td>\n",
       "      <td>NaN</td>\n",
       "    </tr>\n",
       "    <tr>\n",
       "      <th>2</th>\n",
       "      <td>11,2</td>\n",
       "      <td>5,5</td>\n",
       "      <td>38</td>\n",
       "      <td>21,5</td>\n",
       "      <td>15</td>\n",
       "      <td>NaN</td>\n",
       "      <td>E10</td>\n",
       "      <td>0</td>\n",
       "      <td>0</td>\n",
       "      <td>0</td>\n",
       "      <td>NaN</td>\n",
       "      <td>NaN</td>\n",
       "    </tr>\n",
       "    <tr>\n",
       "      <th>3</th>\n",
       "      <td>12,9</td>\n",
       "      <td>3,9</td>\n",
       "      <td>36</td>\n",
       "      <td>21,5</td>\n",
       "      <td>14</td>\n",
       "      <td>NaN</td>\n",
       "      <td>E10</td>\n",
       "      <td>0</td>\n",
       "      <td>0</td>\n",
       "      <td>0</td>\n",
       "      <td>NaN</td>\n",
       "      <td>NaN</td>\n",
       "    </tr>\n",
       "    <tr>\n",
       "      <th>4</th>\n",
       "      <td>18,5</td>\n",
       "      <td>4,5</td>\n",
       "      <td>46</td>\n",
       "      <td>21,5</td>\n",
       "      <td>15</td>\n",
       "      <td>NaN</td>\n",
       "      <td>E10</td>\n",
       "      <td>0</td>\n",
       "      <td>0</td>\n",
       "      <td>0</td>\n",
       "      <td>NaN</td>\n",
       "      <td>NaN</td>\n",
       "    </tr>\n",
       "  </tbody>\n",
       "</table>\n",
       "</div>"
      ],
      "text/plain": [
       "  distance consume  speed temp_inside  temp_outside specials gas_type  AC  \\\n",
       "0       28       5     26        21,5            12      NaN      E10   0   \n",
       "1       12     4,2     30        21,5            13      NaN      E10   0   \n",
       "2     11,2     5,5     38        21,5            15      NaN      E10   0   \n",
       "3     12,9     3,9     36        21,5            14      NaN      E10   0   \n",
       "4     18,5     4,5     46        21,5            15      NaN      E10   0   \n",
       "\n",
       "   rain  sun refill liters refill gas  \n",
       "0     0    0            45        E10  \n",
       "1     0    0           NaN        NaN  \n",
       "2     0    0           NaN        NaN  \n",
       "3     0    0           NaN        NaN  \n",
       "4     0    0           NaN        NaN  "
      ]
     },
     "metadata": {},
     "output_type": "display_data"
    }
   ],
   "source": [
    "display(df.head())"
   ]
  },
  {
   "cell_type": "code",
   "execution_count": 4,
   "metadata": {
    "scrolled": true
   },
   "outputs": [
    {
     "data": {
      "text/html": [
       "<div>\n",
       "<style scoped>\n",
       "    .dataframe tbody tr th:only-of-type {\n",
       "        vertical-align: middle;\n",
       "    }\n",
       "\n",
       "    .dataframe tbody tr th {\n",
       "        vertical-align: top;\n",
       "    }\n",
       "\n",
       "    .dataframe thead th {\n",
       "        text-align: right;\n",
       "    }\n",
       "</style>\n",
       "<table border=\"1\" class=\"dataframe\">\n",
       "  <thead>\n",
       "    <tr style=\"text-align: right;\">\n",
       "      <th></th>\n",
       "      <th>distance</th>\n",
       "      <th>consume</th>\n",
       "      <th>speed</th>\n",
       "      <th>temp_inside</th>\n",
       "      <th>temp_outside</th>\n",
       "      <th>specials</th>\n",
       "      <th>gas_type</th>\n",
       "      <th>AC</th>\n",
       "      <th>rain</th>\n",
       "      <th>sun</th>\n",
       "      <th>refill liters</th>\n",
       "      <th>refill gas</th>\n",
       "    </tr>\n",
       "  </thead>\n",
       "  <tbody>\n",
       "    <tr>\n",
       "      <th>count</th>\n",
       "      <td>388</td>\n",
       "      <td>388</td>\n",
       "      <td>388.000000</td>\n",
       "      <td>376</td>\n",
       "      <td>388.000000</td>\n",
       "      <td>93</td>\n",
       "      <td>388</td>\n",
       "      <td>388.000000</td>\n",
       "      <td>388.000000</td>\n",
       "      <td>388.000000</td>\n",
       "      <td>13</td>\n",
       "      <td>13</td>\n",
       "    </tr>\n",
       "    <tr>\n",
       "      <th>unique</th>\n",
       "      <td>174</td>\n",
       "      <td>43</td>\n",
       "      <td>NaN</td>\n",
       "      <td>13</td>\n",
       "      <td>NaN</td>\n",
       "      <td>12</td>\n",
       "      <td>2</td>\n",
       "      <td>NaN</td>\n",
       "      <td>NaN</td>\n",
       "      <td>NaN</td>\n",
       "      <td>10</td>\n",
       "      <td>2</td>\n",
       "    </tr>\n",
       "    <tr>\n",
       "      <th>top</th>\n",
       "      <td>11,8</td>\n",
       "      <td>5</td>\n",
       "      <td>NaN</td>\n",
       "      <td>21,5</td>\n",
       "      <td>NaN</td>\n",
       "      <td>rain</td>\n",
       "      <td>SP98</td>\n",
       "      <td>NaN</td>\n",
       "      <td>NaN</td>\n",
       "      <td>NaN</td>\n",
       "      <td>45</td>\n",
       "      <td>SP98</td>\n",
       "    </tr>\n",
       "    <tr>\n",
       "      <th>freq</th>\n",
       "      <td>37</td>\n",
       "      <td>27</td>\n",
       "      <td>NaN</td>\n",
       "      <td>133</td>\n",
       "      <td>NaN</td>\n",
       "      <td>32</td>\n",
       "      <td>228</td>\n",
       "      <td>NaN</td>\n",
       "      <td>NaN</td>\n",
       "      <td>NaN</td>\n",
       "      <td>2</td>\n",
       "      <td>8</td>\n",
       "    </tr>\n",
       "    <tr>\n",
       "      <th>mean</th>\n",
       "      <td>NaN</td>\n",
       "      <td>NaN</td>\n",
       "      <td>41.927835</td>\n",
       "      <td>NaN</td>\n",
       "      <td>11.358247</td>\n",
       "      <td>NaN</td>\n",
       "      <td>NaN</td>\n",
       "      <td>0.077320</td>\n",
       "      <td>0.123711</td>\n",
       "      <td>0.082474</td>\n",
       "      <td>NaN</td>\n",
       "      <td>NaN</td>\n",
       "    </tr>\n",
       "    <tr>\n",
       "      <th>std</th>\n",
       "      <td>NaN</td>\n",
       "      <td>NaN</td>\n",
       "      <td>13.598524</td>\n",
       "      <td>NaN</td>\n",
       "      <td>6.991542</td>\n",
       "      <td>NaN</td>\n",
       "      <td>NaN</td>\n",
       "      <td>0.267443</td>\n",
       "      <td>0.329677</td>\n",
       "      <td>0.275441</td>\n",
       "      <td>NaN</td>\n",
       "      <td>NaN</td>\n",
       "    </tr>\n",
       "    <tr>\n",
       "      <th>min</th>\n",
       "      <td>NaN</td>\n",
       "      <td>NaN</td>\n",
       "      <td>14.000000</td>\n",
       "      <td>NaN</td>\n",
       "      <td>-5.000000</td>\n",
       "      <td>NaN</td>\n",
       "      <td>NaN</td>\n",
       "      <td>0.000000</td>\n",
       "      <td>0.000000</td>\n",
       "      <td>0.000000</td>\n",
       "      <td>NaN</td>\n",
       "      <td>NaN</td>\n",
       "    </tr>\n",
       "    <tr>\n",
       "      <th>25%</th>\n",
       "      <td>NaN</td>\n",
       "      <td>NaN</td>\n",
       "      <td>32.750000</td>\n",
       "      <td>NaN</td>\n",
       "      <td>7.000000</td>\n",
       "      <td>NaN</td>\n",
       "      <td>NaN</td>\n",
       "      <td>0.000000</td>\n",
       "      <td>0.000000</td>\n",
       "      <td>0.000000</td>\n",
       "      <td>NaN</td>\n",
       "      <td>NaN</td>\n",
       "    </tr>\n",
       "    <tr>\n",
       "      <th>50%</th>\n",
       "      <td>NaN</td>\n",
       "      <td>NaN</td>\n",
       "      <td>40.500000</td>\n",
       "      <td>NaN</td>\n",
       "      <td>10.000000</td>\n",
       "      <td>NaN</td>\n",
       "      <td>NaN</td>\n",
       "      <td>0.000000</td>\n",
       "      <td>0.000000</td>\n",
       "      <td>0.000000</td>\n",
       "      <td>NaN</td>\n",
       "      <td>NaN</td>\n",
       "    </tr>\n",
       "    <tr>\n",
       "      <th>75%</th>\n",
       "      <td>NaN</td>\n",
       "      <td>NaN</td>\n",
       "      <td>50.000000</td>\n",
       "      <td>NaN</td>\n",
       "      <td>16.000000</td>\n",
       "      <td>NaN</td>\n",
       "      <td>NaN</td>\n",
       "      <td>0.000000</td>\n",
       "      <td>0.000000</td>\n",
       "      <td>0.000000</td>\n",
       "      <td>NaN</td>\n",
       "      <td>NaN</td>\n",
       "    </tr>\n",
       "    <tr>\n",
       "      <th>max</th>\n",
       "      <td>NaN</td>\n",
       "      <td>NaN</td>\n",
       "      <td>90.000000</td>\n",
       "      <td>NaN</td>\n",
       "      <td>31.000000</td>\n",
       "      <td>NaN</td>\n",
       "      <td>NaN</td>\n",
       "      <td>1.000000</td>\n",
       "      <td>1.000000</td>\n",
       "      <td>1.000000</td>\n",
       "      <td>NaN</td>\n",
       "      <td>NaN</td>\n",
       "    </tr>\n",
       "  </tbody>\n",
       "</table>\n",
       "</div>"
      ],
      "text/plain": [
       "       distance consume       speed temp_inside  temp_outside specials  \\\n",
       "count       388     388  388.000000         376    388.000000       93   \n",
       "unique      174      43         NaN          13           NaN       12   \n",
       "top        11,8       5         NaN        21,5           NaN     rain   \n",
       "freq         37      27         NaN         133           NaN       32   \n",
       "mean        NaN     NaN   41.927835         NaN     11.358247      NaN   \n",
       "std         NaN     NaN   13.598524         NaN      6.991542      NaN   \n",
       "min         NaN     NaN   14.000000         NaN     -5.000000      NaN   \n",
       "25%         NaN     NaN   32.750000         NaN      7.000000      NaN   \n",
       "50%         NaN     NaN   40.500000         NaN     10.000000      NaN   \n",
       "75%         NaN     NaN   50.000000         NaN     16.000000      NaN   \n",
       "max         NaN     NaN   90.000000         NaN     31.000000      NaN   \n",
       "\n",
       "       gas_type          AC        rain         sun refill liters refill gas  \n",
       "count       388  388.000000  388.000000  388.000000            13         13  \n",
       "unique        2         NaN         NaN         NaN            10          2  \n",
       "top        SP98         NaN         NaN         NaN            45       SP98  \n",
       "freq        228         NaN         NaN         NaN             2          8  \n",
       "mean        NaN    0.077320    0.123711    0.082474           NaN        NaN  \n",
       "std         NaN    0.267443    0.329677    0.275441           NaN        NaN  \n",
       "min         NaN    0.000000    0.000000    0.000000           NaN        NaN  \n",
       "25%         NaN    0.000000    0.000000    0.000000           NaN        NaN  \n",
       "50%         NaN    0.000000    0.000000    0.000000           NaN        NaN  \n",
       "75%         NaN    0.000000    0.000000    0.000000           NaN        NaN  \n",
       "max         NaN    1.000000    1.000000    1.000000           NaN        NaN  "
      ]
     },
     "execution_count": 4,
     "metadata": {},
     "output_type": "execute_result"
    }
   ],
   "source": [
    "df.describe(include='all')"
   ]
  },
  {
   "cell_type": "code",
   "execution_count": 5,
   "metadata": {},
   "outputs": [
    {
     "name": "stdout",
     "output_type": "stream",
     "text": [
      "<class 'pandas.core.frame.DataFrame'>\n",
      "RangeIndex: 388 entries, 0 to 387\n",
      "Data columns (total 12 columns):\n",
      "distance         388 non-null object\n",
      "consume          388 non-null object\n",
      "speed            388 non-null int64\n",
      "temp_inside      376 non-null object\n",
      "temp_outside     388 non-null int64\n",
      "specials         93 non-null object\n",
      "gas_type         388 non-null object\n",
      "AC               388 non-null int64\n",
      "rain             388 non-null int64\n",
      "sun              388 non-null int64\n",
      "refill liters    13 non-null object\n",
      "refill gas       13 non-null object\n",
      "dtypes: int64(5), object(7)\n",
      "memory usage: 36.5+ KB\n"
     ]
    }
   ],
   "source": [
    "df.info()"
   ]
  },
  {
   "cell_type": "markdown",
   "metadata": {},
   "source": [
    "[メモ] \n",
    "量的変数だが小数点が”,”で表記されているために変数の型がobjectになっているもの  \n",
    "　…distance, consume, temp_inside  \n",
    "　⇒”,”から”.”への置換が必要　＆　float型へのキャストが必要\n",
    "\n",
    "質的変数だが数値として扱いたいもの  \n",
    "　…gas_type  \n",
    "　⇒ダミーデータに置き換える(\"E10\"…0 ,\"SP98\"…1 として扱う)\n",
    "\n",
    "欠損値があるもの  \n",
    "　…temp_inside, specials, refill liters, refill gas  \n",
    "　⇒temp_insideは欠損値を埋める（とりあえずtemp_inside全体の平均値で埋める）  \n",
    "　⇒specials,refill liters, refill gasは使用しないので無視"
   ]
  },
  {
   "cell_type": "markdown",
   "metadata": {},
   "source": [
    "### 3. 前処理"
   ]
  },
  {
   "cell_type": "markdown",
   "metadata": {},
   "source": [
    "～やること～  \n",
    "・データの体裁を整える  \n",
    "・標準化  \n",
    "・前処理の結果確認"
   ]
  },
  {
   "cell_type": "markdown",
   "metadata": {},
   "source": [
    "#### ・データの体裁を整える"
   ]
  },
  {
   "cell_type": "code",
   "execution_count": 6,
   "metadata": {},
   "outputs": [],
   "source": [
    "# distance 前処理\n",
    "df['distance'] = df['distance'].apply(lambda x: x.replace(\",\", \".\"))\n",
    "df['distance'] = df['distance'].astype(np.float)"
   ]
  },
  {
   "cell_type": "code",
   "execution_count": 7,
   "metadata": {},
   "outputs": [],
   "source": [
    "# consume 前処理\n",
    "df['consume'] = df['consume'].apply(lambda x: x.replace(\",\", \".\"))\n",
    "df['consume'] = df['consume'].astype(np.float)"
   ]
  },
  {
   "cell_type": "code",
   "execution_count": 8,
   "metadata": {},
   "outputs": [
    {
     "name": "stdout",
     "output_type": "stream",
     "text": [
      "欠損値以外の値の例…  21,5\n",
      "欠損値以外の型    …  <class 'str'>\n",
      "\n",
      "欠損値            …  nan\n",
      "欠損値の型        …  <class 'float'>\n"
     ]
    }
   ],
   "source": [
    "# temp_inside 前処理 1/3\n",
    " # 欠損値以外の型を確認 \n",
    "print(\"欠損値以外の値の例… \",df.at[0,'temp_inside'])\n",
    "print(\"欠損値以外の型    … \",type(df.at[0,'temp_inside']))    \n",
    "print()    \n",
    " # 欠損値の型を確認\n",
    "print(\"欠損値            … \",df.at[93,'temp_inside'])\n",
    "print(\"欠損値の型        … \",type(df.at[93,'temp_inside']))"
   ]
  },
  {
   "cell_type": "code",
   "execution_count": 9,
   "metadata": {},
   "outputs": [],
   "source": [
    "# temp_inside 前処理 2/3\n",
    " # \",\"から\".\"へ置換\n",
    " # 欠損値(float型)を置換しようとするとするとエラーが出るらしいので、欠損値以外（str型）だけ置換する\n",
    "for i in range(len(df) - 1):\n",
    "    temp_inside_buf = df.at[i, 'temp_inside']                    #１行抽出→型判定\n",
    "    if(type(temp_inside_buf) is str):                       \n",
    "        df.at[i, 'temp_inside'] = df.at[i, 'temp_inside'].replace(\",\", \".\")     \n",
    "\n",
    " # float型にキャスト\n",
    "df['temp_inside'] = df['temp_inside'].astype(np.float)\n",
    "\n",
    " # 欠損値を埋める（temp_insideの平均値で埋める）\n",
    "df['temp_inside']  = df['temp_inside'].fillna(df['temp_inside'].mean())"
   ]
  },
  {
   "cell_type": "code",
   "execution_count": 10,
   "metadata": {},
   "outputs": [
    {
     "name": "stdout",
     "output_type": "stream",
     "text": [
      "(もと)欠損値      …  21.929521276595743\n",
      "(もと)欠損値の型  …  <class 'numpy.float64'>\n"
     ]
    }
   ],
   "source": [
    "# temp_inside 前処理 3/3\n",
    " # 欠損値(だったところ)に平均値が入ったことの確認\n",
    "print(\"(もと)欠損値      … \",df.at[93,'temp_inside'])\n",
    "print(\"(もと)欠損値の型  … \",type(df.at[93,'temp_inside']))"
   ]
  },
  {
   "cell_type": "code",
   "execution_count": 11,
   "metadata": {},
   "outputs": [],
   "source": [
    "# gas_type 前処理\n",
    "df.loc[df['gas_type'] == 'E10', 'gas_type'] = 0\n",
    "df.loc[df['gas_type'] == 'SP98', 'gas_type'] =1 "
   ]
  },
  {
   "cell_type": "markdown",
   "metadata": {},
   "source": [
    "#### ・標準化"
   ]
  },
  {
   "cell_type": "code",
   "execution_count": 12,
   "metadata": {},
   "outputs": [
    {
     "name": "stderr",
     "output_type": "stream",
     "text": [
      "C:\\Users\\sub-pc\\Anaconda3\\lib\\site-packages\\sklearn\\utils\\validation.py:475: DataConversionWarning: Data with input dtype int64 was converted to float64 by StandardScaler.\n",
      "  warnings.warn(msg, DataConversionWarning)\n"
     ]
    }
   ],
   "source": [
    "# 標準化とは、平均を引いて、標準偏差で割る操作\n",
    "from sklearn.preprocessing import StandardScaler\n",
    "stdsc = StandardScaler()\n",
    "df[[\"distance\"]]     = stdsc.fit_transform(df[[\"distance\"]].values)\n",
    "df[[\"speed\"]]        = stdsc.fit_transform(df[[\"speed\"]].values)\n",
    "df[[\"temp_inside\"]]  = stdsc.fit_transform(df[[\"temp_inside\"]].values)\n",
    "df[[\"temp_outside\"]] = stdsc.fit_transform(df[[\"temp_outside\"]].values)\n",
    "df[[\"gas_type\"]]     = stdsc.fit_transform(df[[\"gas_type\"]].values)\n",
    "df[[\"AC\"]]           = stdsc.fit_transform(df[[\"AC\"]].values)\n",
    "df[[\"rain\"]]         = stdsc.fit_transform(df[[\"rain\"]].values)\n",
    "df[[\"sun\"]]          = stdsc.fit_transform(df[[\"sun\"]].values)"
   ]
  },
  {
   "cell_type": "markdown",
   "metadata": {},
   "source": [
    "#### ・前処理の結果確認"
   ]
  },
  {
   "cell_type": "code",
   "execution_count": 13,
   "metadata": {},
   "outputs": [
    {
     "data": {
      "text/html": [
       "<div>\n",
       "<style scoped>\n",
       "    .dataframe tbody tr th:only-of-type {\n",
       "        vertical-align: middle;\n",
       "    }\n",
       "\n",
       "    .dataframe tbody tr th {\n",
       "        vertical-align: top;\n",
       "    }\n",
       "\n",
       "    .dataframe thead th {\n",
       "        text-align: right;\n",
       "    }\n",
       "</style>\n",
       "<table border=\"1\" class=\"dataframe\">\n",
       "  <thead>\n",
       "    <tr style=\"text-align: right;\">\n",
       "      <th></th>\n",
       "      <th>distance</th>\n",
       "      <th>consume</th>\n",
       "      <th>speed</th>\n",
       "      <th>temp_inside</th>\n",
       "      <th>temp_outside</th>\n",
       "      <th>specials</th>\n",
       "      <th>gas_type</th>\n",
       "      <th>AC</th>\n",
       "      <th>rain</th>\n",
       "      <th>sun</th>\n",
       "      <th>refill liters</th>\n",
       "      <th>refill gas</th>\n",
       "    </tr>\n",
       "  </thead>\n",
       "  <tbody>\n",
       "    <tr>\n",
       "      <th>0</th>\n",
       "      <td>0.368714</td>\n",
       "      <td>5.0</td>\n",
       "      <td>-1.172804</td>\n",
       "      <td>-0.432382</td>\n",
       "      <td>0.091908</td>\n",
       "      <td>NaN</td>\n",
       "      <td>-1.193734</td>\n",
       "      <td>-0.28948</td>\n",
       "      <td>-0.375735</td>\n",
       "      <td>-0.299813</td>\n",
       "      <td>45</td>\n",
       "      <td>E10</td>\n",
       "    </tr>\n",
       "    <tr>\n",
       "      <th>1</th>\n",
       "      <td>-0.338044</td>\n",
       "      <td>4.2</td>\n",
       "      <td>-0.878274</td>\n",
       "      <td>-0.432382</td>\n",
       "      <td>0.235123</td>\n",
       "      <td>NaN</td>\n",
       "      <td>-1.193734</td>\n",
       "      <td>-0.28948</td>\n",
       "      <td>-0.375735</td>\n",
       "      <td>-0.299813</td>\n",
       "      <td>NaN</td>\n",
       "      <td>NaN</td>\n",
       "    </tr>\n",
       "    <tr>\n",
       "      <th>2</th>\n",
       "      <td>-0.373381</td>\n",
       "      <td>5.5</td>\n",
       "      <td>-0.289216</td>\n",
       "      <td>-0.432382</td>\n",
       "      <td>0.521552</td>\n",
       "      <td>NaN</td>\n",
       "      <td>-1.193734</td>\n",
       "      <td>-0.28948</td>\n",
       "      <td>-0.375735</td>\n",
       "      <td>-0.299813</td>\n",
       "      <td>NaN</td>\n",
       "      <td>NaN</td>\n",
       "    </tr>\n",
       "    <tr>\n",
       "      <th>3</th>\n",
       "      <td>-0.298288</td>\n",
       "      <td>3.9</td>\n",
       "      <td>-0.436480</td>\n",
       "      <td>-0.432382</td>\n",
       "      <td>0.378338</td>\n",
       "      <td>NaN</td>\n",
       "      <td>-1.193734</td>\n",
       "      <td>-0.28948</td>\n",
       "      <td>-0.375735</td>\n",
       "      <td>-0.299813</td>\n",
       "      <td>NaN</td>\n",
       "      <td>NaN</td>\n",
       "    </tr>\n",
       "    <tr>\n",
       "      <th>4</th>\n",
       "      <td>-0.050923</td>\n",
       "      <td>4.5</td>\n",
       "      <td>0.299843</td>\n",
       "      <td>-0.432382</td>\n",
       "      <td>0.521552</td>\n",
       "      <td>NaN</td>\n",
       "      <td>-1.193734</td>\n",
       "      <td>-0.28948</td>\n",
       "      <td>-0.375735</td>\n",
       "      <td>-0.299813</td>\n",
       "      <td>NaN</td>\n",
       "      <td>NaN</td>\n",
       "    </tr>\n",
       "  </tbody>\n",
       "</table>\n",
       "</div>"
      ],
      "text/plain": [
       "   distance  consume     speed  temp_inside  temp_outside specials  gas_type  \\\n",
       "0  0.368714      5.0 -1.172804    -0.432382      0.091908      NaN -1.193734   \n",
       "1 -0.338044      4.2 -0.878274    -0.432382      0.235123      NaN -1.193734   \n",
       "2 -0.373381      5.5 -0.289216    -0.432382      0.521552      NaN -1.193734   \n",
       "3 -0.298288      3.9 -0.436480    -0.432382      0.378338      NaN -1.193734   \n",
       "4 -0.050923      4.5  0.299843    -0.432382      0.521552      NaN -1.193734   \n",
       "\n",
       "        AC      rain       sun refill liters refill gas  \n",
       "0 -0.28948 -0.375735 -0.299813            45        E10  \n",
       "1 -0.28948 -0.375735 -0.299813           NaN        NaN  \n",
       "2 -0.28948 -0.375735 -0.299813           NaN        NaN  \n",
       "3 -0.28948 -0.375735 -0.299813           NaN        NaN  \n",
       "4 -0.28948 -0.375735 -0.299813           NaN        NaN  "
      ]
     },
     "metadata": {},
     "output_type": "display_data"
    }
   ],
   "source": [
    "display(df.head())"
   ]
  },
  {
   "cell_type": "code",
   "execution_count": 14,
   "metadata": {},
   "outputs": [
    {
     "data": {
      "text/html": [
       "<div>\n",
       "<style scoped>\n",
       "    .dataframe tbody tr th:only-of-type {\n",
       "        vertical-align: middle;\n",
       "    }\n",
       "\n",
       "    .dataframe tbody tr th {\n",
       "        vertical-align: top;\n",
       "    }\n",
       "\n",
       "    .dataframe thead th {\n",
       "        text-align: right;\n",
       "    }\n",
       "</style>\n",
       "<table border=\"1\" class=\"dataframe\">\n",
       "  <thead>\n",
       "    <tr style=\"text-align: right;\">\n",
       "      <th></th>\n",
       "      <th>distance</th>\n",
       "      <th>consume</th>\n",
       "      <th>speed</th>\n",
       "      <th>temp_inside</th>\n",
       "      <th>temp_outside</th>\n",
       "      <th>specials</th>\n",
       "      <th>gas_type</th>\n",
       "      <th>AC</th>\n",
       "      <th>rain</th>\n",
       "      <th>sun</th>\n",
       "      <th>refill liters</th>\n",
       "      <th>refill gas</th>\n",
       "    </tr>\n",
       "  </thead>\n",
       "  <tbody>\n",
       "    <tr>\n",
       "      <th>count</th>\n",
       "      <td>3.880000e+02</td>\n",
       "      <td>388.000000</td>\n",
       "      <td>3.880000e+02</td>\n",
       "      <td>3.880000e+02</td>\n",
       "      <td>3.880000e+02</td>\n",
       "      <td>93</td>\n",
       "      <td>3.880000e+02</td>\n",
       "      <td>3.880000e+02</td>\n",
       "      <td>3.880000e+02</td>\n",
       "      <td>3.880000e+02</td>\n",
       "      <td>13</td>\n",
       "      <td>13</td>\n",
       "    </tr>\n",
       "    <tr>\n",
       "      <th>unique</th>\n",
       "      <td>NaN</td>\n",
       "      <td>NaN</td>\n",
       "      <td>NaN</td>\n",
       "      <td>NaN</td>\n",
       "      <td>NaN</td>\n",
       "      <td>12</td>\n",
       "      <td>NaN</td>\n",
       "      <td>NaN</td>\n",
       "      <td>NaN</td>\n",
       "      <td>NaN</td>\n",
       "      <td>10</td>\n",
       "      <td>2</td>\n",
       "    </tr>\n",
       "    <tr>\n",
       "      <th>top</th>\n",
       "      <td>NaN</td>\n",
       "      <td>NaN</td>\n",
       "      <td>NaN</td>\n",
       "      <td>NaN</td>\n",
       "      <td>NaN</td>\n",
       "      <td>rain</td>\n",
       "      <td>NaN</td>\n",
       "      <td>NaN</td>\n",
       "      <td>NaN</td>\n",
       "      <td>NaN</td>\n",
       "      <td>45</td>\n",
       "      <td>SP98</td>\n",
       "    </tr>\n",
       "    <tr>\n",
       "      <th>freq</th>\n",
       "      <td>NaN</td>\n",
       "      <td>NaN</td>\n",
       "      <td>NaN</td>\n",
       "      <td>NaN</td>\n",
       "      <td>NaN</td>\n",
       "      <td>32</td>\n",
       "      <td>NaN</td>\n",
       "      <td>NaN</td>\n",
       "      <td>NaN</td>\n",
       "      <td>NaN</td>\n",
       "      <td>2</td>\n",
       "      <td>8</td>\n",
       "    </tr>\n",
       "    <tr>\n",
       "      <th>mean</th>\n",
       "      <td>1.322682e-16</td>\n",
       "      <td>4.912371</td>\n",
       "      <td>2.392130e-16</td>\n",
       "      <td>-3.834275e-15</td>\n",
       "      <td>4.475229e-16</td>\n",
       "      <td>NaN</td>\n",
       "      <td>-4.028851e-16</td>\n",
       "      <td>4.967390e-16</td>\n",
       "      <td>-2.646795e-16</td>\n",
       "      <td>-1.133114e-15</td>\n",
       "      <td>NaN</td>\n",
       "      <td>NaN</td>\n",
       "    </tr>\n",
       "    <tr>\n",
       "      <th>std</th>\n",
       "      <td>1.001291e+00</td>\n",
       "      <td>1.033172</td>\n",
       "      <td>1.001291e+00</td>\n",
       "      <td>1.001291e+00</td>\n",
       "      <td>1.001291e+00</td>\n",
       "      <td>NaN</td>\n",
       "      <td>1.001291e+00</td>\n",
       "      <td>1.001291e+00</td>\n",
       "      <td>1.001291e+00</td>\n",
       "      <td>1.001291e+00</td>\n",
       "      <td>NaN</td>\n",
       "      <td>NaN</td>\n",
       "    </tr>\n",
       "    <tr>\n",
       "      <th>min</th>\n",
       "      <td>-8.106875e-01</td>\n",
       "      <td>3.300000</td>\n",
       "      <td>-2.056392e+00</td>\n",
       "      <td>-2.949035e+00</td>\n",
       "      <td>-2.342740e+00</td>\n",
       "      <td>NaN</td>\n",
       "      <td>-1.193734e+00</td>\n",
       "      <td>-2.894804e-01</td>\n",
       "      <td>-3.757346e-01</td>\n",
       "      <td>-2.998127e-01</td>\n",
       "      <td>NaN</td>\n",
       "      <td>NaN</td>\n",
       "    </tr>\n",
       "    <tr>\n",
       "      <th>25%</th>\n",
       "      <td>-3.468780e-01</td>\n",
       "      <td>4.300000</td>\n",
       "      <td>-6.757855e-01</td>\n",
       "      <td>-4.323823e-01</td>\n",
       "      <td>-6.241648e-01</td>\n",
       "      <td>NaN</td>\n",
       "      <td>-1.193734e+00</td>\n",
       "      <td>-2.894804e-01</td>\n",
       "      <td>-3.757346e-01</td>\n",
       "      <td>-2.998127e-01</td>\n",
       "      <td>NaN</td>\n",
       "      <td>NaN</td>\n",
       "    </tr>\n",
       "    <tr>\n",
       "      <th>50%</th>\n",
       "      <td>-2.231955e-01</td>\n",
       "      <td>4.700000</td>\n",
       "      <td>-1.051348e-01</td>\n",
       "      <td>7.094818e-02</td>\n",
       "      <td>-1.945209e-01</td>\n",
       "      <td>NaN</td>\n",
       "      <td>8.377078e-01</td>\n",
       "      <td>-2.894804e-01</td>\n",
       "      <td>-3.757346e-01</td>\n",
       "      <td>-2.998127e-01</td>\n",
       "      <td>NaN</td>\n",
       "      <td>NaN</td>\n",
       "    </tr>\n",
       "    <tr>\n",
       "      <th>75%</th>\n",
       "      <td>-2.883725e-02</td>\n",
       "      <td>5.300000</td>\n",
       "      <td>5.943724e-01</td>\n",
       "      <td>5.742786e-01</td>\n",
       "      <td>6.647669e-01</td>\n",
       "      <td>NaN</td>\n",
       "      <td>8.377078e-01</td>\n",
       "      <td>-2.894804e-01</td>\n",
       "      <td>-3.757346e-01</td>\n",
       "      <td>-2.998127e-01</td>\n",
       "      <td>NaN</td>\n",
       "      <td>NaN</td>\n",
       "    </tr>\n",
       "    <tr>\n",
       "      <th>max</th>\n",
       "      <td>8.677529e+00</td>\n",
       "      <td>12.200000</td>\n",
       "      <td>3.539666e+00</td>\n",
       "      <td>3.594261e+00</td>\n",
       "      <td>2.812986e+00</td>\n",
       "      <td>NaN</td>\n",
       "      <td>8.377078e-01</td>\n",
       "      <td>3.454466e+00</td>\n",
       "      <td>2.661453e+00</td>\n",
       "      <td>3.335416e+00</td>\n",
       "      <td>NaN</td>\n",
       "      <td>NaN</td>\n",
       "    </tr>\n",
       "  </tbody>\n",
       "</table>\n",
       "</div>"
      ],
      "text/plain": [
       "            distance     consume         speed   temp_inside  temp_outside  \\\n",
       "count   3.880000e+02  388.000000  3.880000e+02  3.880000e+02  3.880000e+02   \n",
       "unique           NaN         NaN           NaN           NaN           NaN   \n",
       "top              NaN         NaN           NaN           NaN           NaN   \n",
       "freq             NaN         NaN           NaN           NaN           NaN   \n",
       "mean    1.322682e-16    4.912371  2.392130e-16 -3.834275e-15  4.475229e-16   \n",
       "std     1.001291e+00    1.033172  1.001291e+00  1.001291e+00  1.001291e+00   \n",
       "min    -8.106875e-01    3.300000 -2.056392e+00 -2.949035e+00 -2.342740e+00   \n",
       "25%    -3.468780e-01    4.300000 -6.757855e-01 -4.323823e-01 -6.241648e-01   \n",
       "50%    -2.231955e-01    4.700000 -1.051348e-01  7.094818e-02 -1.945209e-01   \n",
       "75%    -2.883725e-02    5.300000  5.943724e-01  5.742786e-01  6.647669e-01   \n",
       "max     8.677529e+00   12.200000  3.539666e+00  3.594261e+00  2.812986e+00   \n",
       "\n",
       "       specials      gas_type            AC          rain           sun  \\\n",
       "count        93  3.880000e+02  3.880000e+02  3.880000e+02  3.880000e+02   \n",
       "unique       12           NaN           NaN           NaN           NaN   \n",
       "top        rain           NaN           NaN           NaN           NaN   \n",
       "freq         32           NaN           NaN           NaN           NaN   \n",
       "mean        NaN -4.028851e-16  4.967390e-16 -2.646795e-16 -1.133114e-15   \n",
       "std         NaN  1.001291e+00  1.001291e+00  1.001291e+00  1.001291e+00   \n",
       "min         NaN -1.193734e+00 -2.894804e-01 -3.757346e-01 -2.998127e-01   \n",
       "25%         NaN -1.193734e+00 -2.894804e-01 -3.757346e-01 -2.998127e-01   \n",
       "50%         NaN  8.377078e-01 -2.894804e-01 -3.757346e-01 -2.998127e-01   \n",
       "75%         NaN  8.377078e-01 -2.894804e-01 -3.757346e-01 -2.998127e-01   \n",
       "max         NaN  8.377078e-01  3.454466e+00  2.661453e+00  3.335416e+00   \n",
       "\n",
       "       refill liters refill gas  \n",
       "count             13         13  \n",
       "unique            10          2  \n",
       "top               45       SP98  \n",
       "freq               2          8  \n",
       "mean             NaN        NaN  \n",
       "std              NaN        NaN  \n",
       "min              NaN        NaN  \n",
       "25%              NaN        NaN  \n",
       "50%              NaN        NaN  \n",
       "75%              NaN        NaN  \n",
       "max              NaN        NaN  "
      ]
     },
     "execution_count": 14,
     "metadata": {},
     "output_type": "execute_result"
    }
   ],
   "source": [
    "df.describe(include='all')"
   ]
  },
  {
   "cell_type": "code",
   "execution_count": 15,
   "metadata": {},
   "outputs": [
    {
     "name": "stdout",
     "output_type": "stream",
     "text": [
      "<class 'pandas.core.frame.DataFrame'>\n",
      "RangeIndex: 388 entries, 0 to 387\n",
      "Data columns (total 12 columns):\n",
      "distance         388 non-null float64\n",
      "consume          388 non-null float64\n",
      "speed            388 non-null float64\n",
      "temp_inside      388 non-null float64\n",
      "temp_outside     388 non-null float64\n",
      "specials         93 non-null object\n",
      "gas_type         388 non-null float64\n",
      "AC               388 non-null float64\n",
      "rain             388 non-null float64\n",
      "sun              388 non-null float64\n",
      "refill liters    13 non-null object\n",
      "refill gas       13 non-null object\n",
      "dtypes: float64(9), object(3)\n",
      "memory usage: 36.5+ KB\n"
     ]
    }
   ],
   "source": [
    "df.info()"
   ]
  },
  {
   "cell_type": "code",
   "execution_count": 16,
   "metadata": {},
   "outputs": [
    {
     "name": "stdout",
     "output_type": "stream",
     "text": [
      "distance\n"
     ]
    },
    {
     "data": {
      "image/png": "[encoded data removed]",
      "text/plain": [
       "<matplotlib.figure.Figure at 0x24d3fd64dd8>"
      ]
     },
     "metadata": {},
     "output_type": "display_data"
    },
    {
     "name": "stdout",
     "output_type": "stream",
     "text": [
      "speed\n"
     ]
    },
    {
     "data": {
      "image/png": "[encoded data removed]",
      "text/plain": [
       "<matplotlib.figure.Figure at 0x24d41df94a8>"
      ]
     },
     "metadata": {},
     "output_type": "display_data"
    },
    {
     "name": "stdout",
     "output_type": "stream",
     "text": [
      "temp_inside\n"
     ]
    },
    {
     "data": {
      "image/png": "[encoded data removed]",
      "text/plain": [
       "<matplotlib.figure.Figure at 0x24d41e664e0>"
      ]
     },
     "metadata": {},
     "output_type": "display_data"
    },
    {
     "name": "stdout",
     "output_type": "stream",
     "text": [
      "temp_outside\n"
     ]
    },
    {
     "data": {
      "image/png": "[encoded data removed]",
      "text/plain": [
       "<matplotlib.figure.Figure at 0x24d41efb748>"
      ]
     },
     "metadata": {},
     "output_type": "display_data"
    },
    {
     "name": "stdout",
     "output_type": "stream",
     "text": [
      "gas_type\n"
     ]
    },
    {
     "data": {
      "image/png": "[encoded data removed]",
      "text/plain": [
       "<matplotlib.figure.Figure at 0x24d41f87518>"
      ]
     },
     "metadata": {},
     "output_type": "display_data"
    },
    {
     "name": "stdout",
     "output_type": "stream",
     "text": [
      "AC\n"
     ]
    },
    {
     "data": {
      "image/png": "[encoded data removed]",
      "text/plain": [
       "<matplotlib.figure.Figure at 0x24d41f7fc18>"
      ]
     },
     "metadata": {},
     "output_type": "display_data"
    },
    {
     "name": "stdout",
     "output_type": "stream",
     "text": [
      "rain\n"
     ]
    },
    {
     "data": {
      "image/png": "[encoded data removed]",
      "text/plain": [
       "<matplotlib.figure.Figure at 0x24d41ec1320>"
      ]
     },
     "metadata": {},
     "output_type": "display_data"
    },
    {
     "name": "stdout",
     "output_type": "stream",
     "text": [
      "sun\n"
     ]
    },
    {
     "data": {
      "image/png": "[encoded data removed]",
      "text/plain": [
       "<matplotlib.figure.Figure at 0x24d3fd8a940>"
      ]
     },
     "metadata": {},
     "output_type": "display_data"
    }
   ],
   "source": [
    "# 標準化されていることを確認\n",
    "print(\"distance\")\n",
    "df[\"distance\"].hist(bins=np.arange(-5,5,0.5))\n",
    "plt.show()\n",
    "print(\"speed\")\n",
    "df[\"speed\"].hist(bins=np.arange(-5,5,0.5))\n",
    "plt.show()\n",
    "print(\"temp_inside\")\n",
    "df[\"temp_inside\"].hist(bins=np.arange(-5,5,0.5))\n",
    "plt.show()\n",
    "print(\"temp_outside\")\n",
    "df[\"temp_outside\"].hist(bins=np.arange(-5,5,0.5))\n",
    "plt.show()\n",
    "print(\"gas_type\")\n",
    "df[\"gas_type\"].hist(bins=np.arange(-5,5,0.5))\n",
    "plt.show()\n",
    "print(\"AC\")\n",
    "df[\"AC\"].hist(bins=np.arange(-5,5,0.5))\n",
    "plt.show()\n",
    "print(\"rain\")\n",
    "df[\"rain\"].hist(bins=np.arange(-5,5,0.5))\n",
    "plt.show()\n",
    "print(\"sun\")\n",
    "df[\"sun\"].hist(bins=np.arange(-5,5,0.5))\n",
    "plt.show()"
   ]
  },
  {
   "cell_type": "markdown",
   "metadata": {},
   "source": [
    "### 4. 目的変数と説明変数の関係"
   ]
  },
  {
   "cell_type": "code",
   "execution_count": 17,
   "metadata": {},
   "outputs": [
    {
     "data": {
      "image/png": "[encoded data removed]",
      "text/plain": [
       "<matplotlib.figure.Figure at 0x24d3fd5fd30>"
      ]
     },
     "metadata": {},
     "output_type": "display_data"
    }
   ],
   "source": [
    "# 散布図行列を書いてみる（数値データの部分だけプロットされるらしい）\n",
    "pd.plotting.scatter_matrix(df, figsize=(10,10))\n",
    "plt.show()"
   ]
  },
  {
   "cell_type": "code",
   "execution_count": 18,
   "metadata": {},
   "outputs": [
    {
     "data": {
      "text/html": [
       "<div>\n",
       "<style scoped>\n",
       "    .dataframe tbody tr th:only-of-type {\n",
       "        vertical-align: middle;\n",
       "    }\n",
       "\n",
       "    .dataframe tbody tr th {\n",
       "        vertical-align: top;\n",
       "    }\n",
       "\n",
       "    .dataframe thead th {\n",
       "        text-align: right;\n",
       "    }\n",
       "</style>\n",
       "<table border=\"1\" class=\"dataframe\">\n",
       "  <thead>\n",
       "    <tr style=\"text-align: right;\">\n",
       "      <th></th>\n",
       "      <th>distance</th>\n",
       "      <th>consume</th>\n",
       "      <th>speed</th>\n",
       "      <th>temp_inside</th>\n",
       "      <th>temp_outside</th>\n",
       "      <th>gas_type</th>\n",
       "      <th>AC</th>\n",
       "      <th>rain</th>\n",
       "      <th>sun</th>\n",
       "    </tr>\n",
       "  </thead>\n",
       "  <tbody>\n",
       "    <tr>\n",
       "      <th>distance</th>\n",
       "      <td>1.000000</td>\n",
       "      <td>-0.128967</td>\n",
       "      <td>0.562299</td>\n",
       "      <td>0.075178</td>\n",
       "      <td>0.088175</td>\n",
       "      <td>-0.053411</td>\n",
       "      <td>-0.025738</td>\n",
       "      <td>-0.019791</td>\n",
       "      <td>0.081120</td>\n",
       "    </tr>\n",
       "    <tr>\n",
       "      <th>consume</th>\n",
       "      <td>-0.128967</td>\n",
       "      <td>1.000000</td>\n",
       "      <td>-0.227866</td>\n",
       "      <td>-0.160623</td>\n",
       "      <td>-0.320811</td>\n",
       "      <td>-0.015327</td>\n",
       "      <td>0.096591</td>\n",
       "      <td>0.248118</td>\n",
       "      <td>-0.170667</td>\n",
       "    </tr>\n",
       "    <tr>\n",
       "      <th>speed</th>\n",
       "      <td>0.562299</td>\n",
       "      <td>-0.227866</td>\n",
       "      <td>1.000000</td>\n",
       "      <td>0.059293</td>\n",
       "      <td>0.015411</td>\n",
       "      <td>-0.097360</td>\n",
       "      <td>-0.035408</td>\n",
       "      <td>0.009489</td>\n",
       "      <td>0.081618</td>\n",
       "    </tr>\n",
       "    <tr>\n",
       "      <th>temp_inside</th>\n",
       "      <td>0.075178</td>\n",
       "      <td>-0.160623</td>\n",
       "      <td>0.059293</td>\n",
       "      <td>1.000000</td>\n",
       "      <td>0.359500</td>\n",
       "      <td>0.010198</td>\n",
       "      <td>0.297376</td>\n",
       "      <td>-0.036937</td>\n",
       "      <td>0.242248</td>\n",
       "    </tr>\n",
       "    <tr>\n",
       "      <th>temp_outside</th>\n",
       "      <td>0.088175</td>\n",
       "      <td>-0.320811</td>\n",
       "      <td>0.015411</td>\n",
       "      <td>0.359500</td>\n",
       "      <td>1.000000</td>\n",
       "      <td>0.148705</td>\n",
       "      <td>0.167562</td>\n",
       "      <td>-0.186315</td>\n",
       "      <td>0.346903</td>\n",
       "    </tr>\n",
       "    <tr>\n",
       "      <th>gas_type</th>\n",
       "      <td>-0.053411</td>\n",
       "      <td>-0.015327</td>\n",
       "      <td>-0.097360</td>\n",
       "      <td>0.010198</td>\n",
       "      <td>0.148705</td>\n",
       "      <td>1.000000</td>\n",
       "      <td>0.105285</td>\n",
       "      <td>0.060328</td>\n",
       "      <td>0.022761</td>\n",
       "    </tr>\n",
       "    <tr>\n",
       "      <th>AC</th>\n",
       "      <td>-0.025738</td>\n",
       "      <td>0.096591</td>\n",
       "      <td>-0.035408</td>\n",
       "      <td>0.297376</td>\n",
       "      <td>0.167562</td>\n",
       "      <td>0.105285</td>\n",
       "      <td>1.000000</td>\n",
       "      <td>0.242915</td>\n",
       "      <td>0.088598</td>\n",
       "    </tr>\n",
       "    <tr>\n",
       "      <th>rain</th>\n",
       "      <td>-0.019791</td>\n",
       "      <td>0.248118</td>\n",
       "      <td>0.009489</td>\n",
       "      <td>-0.036937</td>\n",
       "      <td>-0.186315</td>\n",
       "      <td>0.060328</td>\n",
       "      <td>0.242915</td>\n",
       "      <td>1.000000</td>\n",
       "      <td>-0.112650</td>\n",
       "    </tr>\n",
       "    <tr>\n",
       "      <th>sun</th>\n",
       "      <td>0.081120</td>\n",
       "      <td>-0.170667</td>\n",
       "      <td>0.081618</td>\n",
       "      <td>0.242248</td>\n",
       "      <td>0.346903</td>\n",
       "      <td>0.022761</td>\n",
       "      <td>0.088598</td>\n",
       "      <td>-0.112650</td>\n",
       "      <td>1.000000</td>\n",
       "    </tr>\n",
       "  </tbody>\n",
       "</table>\n",
       "</div>"
      ],
      "text/plain": [
       "              distance   consume     speed  temp_inside  temp_outside  \\\n",
       "distance      1.000000 -0.128967  0.562299     0.075178      0.088175   \n",
       "consume      -0.128967  1.000000 -0.227866    -0.160623     -0.320811   \n",
       "speed         0.562299 -0.227866  1.000000     0.059293      0.015411   \n",
       "temp_inside   0.075178 -0.160623  0.059293     1.000000      0.359500   \n",
       "temp_outside  0.088175 -0.320811  0.015411     0.359500      1.000000   \n",
       "gas_type     -0.053411 -0.015327 -0.097360     0.010198      0.148705   \n",
       "AC           -0.025738  0.096591 -0.035408     0.297376      0.167562   \n",
       "rain         -0.019791  0.248118  0.009489    -0.036937     -0.186315   \n",
       "sun           0.081120 -0.170667  0.081618     0.242248      0.346903   \n",
       "\n",
       "              gas_type        AC      rain       sun  \n",
       "distance     -0.053411 -0.025738 -0.019791  0.081120  \n",
       "consume      -0.015327  0.096591  0.248118 -0.170667  \n",
       "speed        -0.097360 -0.035408  0.009489  0.081618  \n",
       "temp_inside   0.010198  0.297376 -0.036937  0.242248  \n",
       "temp_outside  0.148705  0.167562 -0.186315  0.346903  \n",
       "gas_type      1.000000  0.105285  0.060328  0.022761  \n",
       "AC            0.105285  1.000000  0.242915  0.088598  \n",
       "rain          0.060328  0.242915  1.000000 -0.112650  \n",
       "sun           0.022761  0.088598 -0.112650  1.000000  "
      ]
     },
     "execution_count": 18,
     "metadata": {},
     "output_type": "execute_result"
    }
   ],
   "source": [
    "# 相関係数を確認\n",
    "df.corr()"
   ]
  },
  {
   "cell_type": "code",
   "execution_count": 19,
   "metadata": {},
   "outputs": [
    {
     "data": {
      "image/png": "[encoded data removed]",
      "text/plain": [
       "<matplotlib.figure.Figure at 0x24d42f91c50>"
      ]
     },
     "metadata": {},
     "output_type": "display_data"
    }
   ],
   "source": [
    "# 相関係数をヒートマップにして可視化\n",
    "sns.heatmap(df.corr())\n",
    "plt.show()"
   ]
  },
  {
   "cell_type": "markdown",
   "metadata": {},
   "source": [
    "### 5. アルゴリズムの実装"
   ]
  },
  {
   "cell_type": "markdown",
   "metadata": {},
   "source": [
    "～やること～  \n",
    "交差検証法で汎化誤差を確認するアルゴリズムを作成  \n",
    "モデルを差し替えて検証できるようにした（つもり）"
   ]
  },
  {
   "cell_type": "code",
   "execution_count": 20,
   "metadata": {},
   "outputs": [],
   "source": [
    "def predict(model):\n",
    "\n",
    "    # 係数を求める\n",
    "    y = df[\"consume\"].values\n",
    "    X = df[[\"distance\", \"speed\", \"temp_inside\", \"temp_outside\",\\\n",
    "            \"gas_type\",\"AC\", \"rain\", \"sun\"]].values\n",
    "\n",
    "    n_split = 5 # グループ数を設定\n",
    "\n",
    "    cross_valid_mse = 0\n",
    "    cross_valid_mae = 0\n",
    "    cross_valid_rmse = 0\n",
    "    split_num = 1\n",
    "\n",
    "    # テスト役を交代させながら学習と評価を繰り返す\n",
    "    for train_idx, test_idx in KFold(n_splits=n_split, random_state=1234).split(X, y):\n",
    "        X_train, y_train = X[train_idx], y[train_idx] #学習用データ\n",
    "        X_test, y_test = X[test_idx], y[test_idx]     #テスト用データ\n",
    "    \n",
    "        # 学習用データを使って線形回帰モデルを学習\n",
    "        #model = LinearRegression(fit_intercept=False)\n",
    "        model.fit(X_train, y_train)\n",
    "\n",
    "        # テストデータに対する予測を実行\n",
    "        y_pred_test = model.predict(X_test)\n",
    "    \n",
    "        # テストデータに対するMSE,MAE,RMSEを計算\n",
    "        mse = mean_squared_error(y_test, y_pred_test) \n",
    "        mae = mean_absolute_error(y_test, y_pred_test)\n",
    "        rmse = np.sqrt(mse)\n",
    "        #print(\"Fold %s : MSE = %s, MAE = %s, RMSE = %s\"% (split_num, round(mse,3), round(mae, 3), round(rmse, 3)) )   \n",
    "    \n",
    "        cross_valid_mse += mse #後で平均を取るためにMSEを加算    \n",
    "        cross_valid_mae += mae #後で平均を取るためにMAEを加算\n",
    "        cross_valid_rmse += rmse #後で平均を取るためにRMSEを加算\n",
    "        split_num += 1\n",
    "\n",
    "    # 平均値を最終的な汎化誤差値とする\n",
    "    final_mse = cross_valid_mse / n_split\n",
    "    final_mae = cross_valid_mae / n_split\n",
    "    final_rmse = cross_valid_rmse / n_split\n",
    "    print(\"Cross Validation MSE = %s\"%round(final_mse, 3))\n",
    "    print(\"Cross Validation MAE = %s\"%round(final_mae, 3))\n",
    "    print(\"Cross Validation RMSE = %s\"%round(final_rmse, 3))\n",
    "    print()\n",
    "    return"
   ]
  },
  {
   "cell_type": "markdown",
   "metadata": {},
   "source": [
    "### 6. 予測精度の確認"
   ]
  },
  {
   "cell_type": "markdown",
   "metadata": {},
   "source": [
    "～やること～  \n",
    "正則化なしと正則化あり（ElasticNet）で予測精度を比較してみる  \n",
    "ElasticNetはL1とL2の割合を変えていくつか試す  "
   ]
  },
  {
   "cell_type": "code",
   "execution_count": 21,
   "metadata": {},
   "outputs": [
    {
     "name": "stdout",
     "output_type": "stream",
     "text": [
      "Cross Validation MSE = 50.156\n",
      "Cross Validation MAE = 6.546\n",
      "Cross Validation RMSE = 6.853\n",
      "\n"
     ]
    }
   ],
   "source": [
    "#正則化なし\n",
    "predict(LinearRegression(fit_intercept=False))"
   ]
  },
  {
   "cell_type": "code",
   "execution_count": 22,
   "metadata": {},
   "outputs": [
    {
     "name": "stdout",
     "output_type": "stream",
     "text": [
      "Cross Validation MSE = 1.015\n",
      "Cross Validation MAE = 0.659\n",
      "Cross Validation RMSE = 0.989\n",
      "\n"
     ]
    }
   ],
   "source": [
    "#ElasticNet （L1_0.1,L2_0.9）\n",
    "predict(linear_model.ElasticNet(alpha=1 , l1_ratio=0.1, max_iter=1e8))"
   ]
  },
  {
   "cell_type": "code",
   "execution_count": 23,
   "metadata": {},
   "outputs": [
    {
     "name": "stdout",
     "output_type": "stream",
     "text": [
      "Cross Validation MSE = 1.092\n",
      "Cross Validation MAE = 0.691\n",
      "Cross Validation RMSE = 1.027\n",
      "\n"
     ]
    }
   ],
   "source": [
    "#ElasticNet （L1_0.2,L2_0.8）\n",
    "predict(linear_model.ElasticNet(alpha=1 , l1_ratio=0.2, max_iter=1e8))"
   ]
  },
  {
   "cell_type": "code",
   "execution_count": 24,
   "metadata": {},
   "outputs": [
    {
     "name": "stdout",
     "output_type": "stream",
     "text": [
      "Cross Validation MSE = 1.126\n",
      "Cross Validation MAE = 0.707\n",
      "Cross Validation RMSE = 1.044\n",
      "\n"
     ]
    }
   ],
   "source": [
    "#ElasticNet （L1_0.3,L2_0.7）\n",
    "predict(linear_model.ElasticNet(alpha=1 , l1_ratio=0.3, max_iter=1e8))"
   ]
  },
  {
   "cell_type": "code",
   "execution_count": 25,
   "metadata": {},
   "outputs": [
    {
     "name": "stdout",
     "output_type": "stream",
     "text": [
      "Cross Validation MSE = 1.137\n",
      "Cross Validation MAE = 0.711\n",
      "Cross Validation RMSE = 1.049\n",
      "\n"
     ]
    }
   ],
   "source": [
    "#ElasticNet （L1_0.4,L2_0.6）\n",
    "predict(linear_model.ElasticNet(alpha=1, l1_ratio=0.4, max_iter=1e8))"
   ]
  },
  {
   "cell_type": "code",
   "execution_count": 26,
   "metadata": {},
   "outputs": [
    {
     "name": "stdout",
     "output_type": "stream",
     "text": [
      "Cross Validation MSE = 1.137\n",
      "Cross Validation MAE = 0.711\n",
      "Cross Validation RMSE = 1.049\n",
      "\n"
     ]
    }
   ],
   "source": [
    "#ElasticNet （L1_0.5,L2_0.5）\n",
    "predict(linear_model.ElasticNet(alpha=1 , l1_ratio=0.5, max_iter=1e8))"
   ]
  },
  {
   "cell_type": "code",
   "execution_count": 27,
   "metadata": {},
   "outputs": [
    {
     "name": "stdout",
     "output_type": "stream",
     "text": [
      "Cross Validation MSE = 1.137\n",
      "Cross Validation MAE = 0.711\n",
      "Cross Validation RMSE = 1.049\n",
      "\n"
     ]
    }
   ],
   "source": [
    "#ElasticNet （L1_0.6,L2_0.4）\n",
    "predict(linear_model.ElasticNet(alpha=1 , l1_ratio=0.6, max_iter=1e8))"
   ]
  },
  {
   "cell_type": "code",
   "execution_count": 28,
   "metadata": {},
   "outputs": [
    {
     "name": "stdout",
     "output_type": "stream",
     "text": [
      "Cross Validation MSE = 1.137\n",
      "Cross Validation MAE = 0.711\n",
      "Cross Validation RMSE = 1.049\n",
      "\n"
     ]
    }
   ],
   "source": [
    "#ElasticNet （L1_0.7,L2_0.3）\n",
    "predict(linear_model.ElasticNet(alpha=1 , l1_ratio=0.7, max_iter=1e8))"
   ]
  },
  {
   "cell_type": "code",
   "execution_count": 29,
   "metadata": {},
   "outputs": [
    {
     "name": "stdout",
     "output_type": "stream",
     "text": [
      "Cross Validation MSE = 1.137\n",
      "Cross Validation MAE = 0.711\n",
      "Cross Validation RMSE = 1.049\n",
      "\n"
     ]
    }
   ],
   "source": [
    "#ElasticNet （L1_0.8,L2_0.2）\n",
    "predict(linear_model.ElasticNet(alpha=1 , l1_ratio=0.8, max_iter=1e8))"
   ]
  },
  {
   "cell_type": "code",
   "execution_count": 30,
   "metadata": {},
   "outputs": [
    {
     "name": "stdout",
     "output_type": "stream",
     "text": [
      "Cross Validation MSE = 1.137\n",
      "Cross Validation MAE = 0.711\n",
      "Cross Validation RMSE = 1.049\n",
      "\n"
     ]
    }
   ],
   "source": [
    "#ElasticNet （L1_0.9,L2_0.1）\n",
    "predict(linear_model.ElasticNet(alpha=1 , l1_ratio=0.9, max_iter=1e8))"
   ]
  },
  {
   "cell_type": "markdown",
   "metadata": {},
   "source": [
    "[メモ]  \n",
    "正則化なしに比べて、正則化（ElasticNet）を実施したほうが誤差はとても少なくなった  \n",
    "ElasticNetでL1とL2の割合を変えてみたがあまり変化がなかった…  \n",
    "でもL1の割合が低いほうが誤差が少なくなる傾向にあるので、ElasticNetではなくてRidge（L2正則化）を使うと誤差がもっと減るかもしれない？"
   ]
  }
 ],
 "metadata": {
  "kernelspec": {
   "display_name": "Python 3",
   "language": "python",
   "name": "python3"
  },
  "language_info": {
   "codemirror_mode": {
    "name": "ipython",
    "version": 3
   },
   "file_extension": ".py",
   "mimetype": "text/x-python",
   "name": "python",
   "nbconvert_exporter": "python",
   "pygments_lexer": "ipython3",
   "version": "3.6.4"
  }
 },
 "nbformat": 4,
 "nbformat_minor": 2
}
